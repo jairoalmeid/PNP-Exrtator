{
 "cells": [
  {
   "cell_type": "markdown",
   "metadata": {},
   "source": [
    "# Configuração inicial do ambiente de banco de dados"
   ]
  },
  {
   "cell_type": "markdown",
   "metadata": {},
   "source": [
    "Conexão com o banco de dados"
   ]
  },
  {
   "cell_type": "code",
   "execution_count": 30,
   "metadata": {},
   "outputs": [],
   "source": [
    "import psycopg2\n",
    "\n",
    "def conectar_banco_dados():\n",
    "    \"\"\"\n",
    "    Estabelece a conexão com o banco de dados PostgreSQL.\n",
    "\n",
    "    Returns:\n",
    "        conn, cursor: Objetos de conexão e cursor do banco de dados.\n",
    "    \"\"\"\n",
    "    try:\n",
    "        conn = psycopg2.connect(\n",
    "            host=\"localhost\",\n",
    "            database=\"pnp\",\n",
    "            user=\"postgres\",\n",
    "            password=\"nis\"\n",
    "        )\n",
    "        cursor = conn.cursor()\n",
    "        print(\"Conexão com o banco de dados estabelecida com sucesso!\")\n",
    "        return conn, cursor\n",
    "    except (Exception, psycopg2.Error) as error:\n",
    "        print(f\"Erro ao conectar ao banco de dados PostgreSQL: {error}\")\n",
    "        return None, None"
   ]
  },
  {
   "cell_type": "markdown",
   "metadata": {},
   "source": [
    "## Tabela `microdados`\n",
    "\n",
    "A tabela `microdados` armazena informações detalhadas sobre matrículas e cursos, provavelmente provenientes da Plataforma Nilo Peçanha. Abaixo está a descrição de sua estrutura:\n",
    "\n",
    "**Campos da Tabela**\n",
    "\n",
    "| Nome do Campo | Tipo de Dado | Descrição |\n",
    "|---|---|---|\n",
    "| `CARGA_HORARIA` | INTEGER | Carga horária total do curso |\n",
    "| `CARGA_HORARIA_MINIMA` | INTEGER | Carga horária mínima exigida para o curso |\n",
    "| `CATEGORIA_SITUACAO` | TEXT | Categoria da situação da matrícula (ex: \"Matriculado\", \"Concluído\", etc.) |\n",
    "| `CO_INST` | INTEGER | Código da instituição de ensino |\n",
    "| `COD_UNIDADE` | INTEGER | Código da unidade de ensino |\n",
    "| `COR_RACA` | TEXT | Cor ou raça do estudante |\n",
    "| `CODIGO_DA_MATRICULA` | INTEGER | Código único da matrícula |\n",
    "| `CODIGO_DA_UNIDADE_DE_ENSINO_SISTEC` | INTEGER | Código da unidade de ensino no sistema SISTEC |\n",
    "| `CODIGO_CICLO_MATRICULA` | INTEGER | Código do ciclo da matrícula |\n",
    "| `CODIGO_DO_MUNICIPIO_DV` | INTEGER | Código do município com dígito verificador |\n",
    "| `DATA_INICIO_CICLO` | TEXT | Data de início do ciclo da matrícula |\n",
    "| `DATA_FIM_PREVISTO_CICLO` | TEXT | Data prevista para o término do ciclo da matrícula |\n",
    "| `DATA_OCORRENCIA_MATRICULA` | TEXT | Data da ocorrência da matrícula |\n",
    "| `EIXO_TECNOLOGICO` | TEXT | Eixo tecnológico ao qual o curso pertence |\n",
    "| `FAIXA_ETARIA` | TEXT | Faixa etária do estudante |\n",
    "| `FATOR_ESFORCO_CURSO` | TEXT | Fator de esforço do curso |\n",
    "| `FONTE_DE_FINANCIAMENTO` | TEXT | Fonte de financiamento do curso |\n",
    "| `IDADE` | INTEGER | Idade do estudante |\n",
    "| `INSTITUICAO` | TEXT | Nome da instituição de ensino |\n",
    "| `MATRICULAS_ATENDIDA` | TEXT | Indica se a matrícula foi atendida |\n",
    "| `MATRICULAS_EQUIVALENTES` | TEXT | Matrículas equivalentes |\n",
    "| `MODALIDADE_DE_ENSINO` | TEXT | Modalidade de ensino (ex: \"Presencial\", \"EaD\") |\n",
    "| `MUNICIPIO` | TEXT | Nome do município |\n",
    "| `MES_DE_OCORRENCIA_DA_SITUACAO` | TEXT | Mês em que ocorreu a situação da matrícula |\n",
    "| `NOME_DE_CURSO` | TEXT | Nome do curso |\n",
    "| `NUMERO_REGISTROS` | INTEGER | Número de registros relacionados à matrícula |\n",
    "| `REGIAO` | TEXT | Região geográfica onde se localiza o curso |\n",
    "| `RENDA_FAMILIAR` | TEXT | Faixa de renda familiar do estudante |\n",
    "| `SEXO` | TEXT | Sexo do estudante |\n",
    "| `SITUACAO_DE_MATRICULA` | TEXT | Situação atual da matrícula |\n",
    "| `SUBEIXO_TECNOLOGICO` | TEXT | Subeixo tecnológico ao qual o curso pertence |\n",
    "| `TIPO_DE_CURSO` | TEXT | Tipo de curso (ex: \"Técnico\", \"Superior\") |\n",
    "| `TIPO_DE_OFERTA` | TEXT | Tipo de oferta do curso |\n",
    "| `TOTAL_INSCRITOS` | INTEGER | Total de inscritos no curso |\n",
    "| `TURNO` | TEXT | Turno do curso (ex: \"Manhã\", \"Tarde\", \"Noite\") |\n",
    "| `UF` | TEXT | Unidade Federativa onde se localiza o curso |\n",
    "| `UNIDADE_DE_ENSINO` | TEXT | Nome da unidade de ensino |\n",
    "| `VAGAS_EXTRAORDINARIAS_AC` | INTEGER | Quantidade de vagas extraordinárias para ampla concorrência |\n",
    "| `VAGAS_EXTRAORDINARIAS_L1` | INTEGER | Quantidade de vagas extraordinárias para a cota 1 |\n",
    "| `VAGAS_EXTRAORDINARIAS_L10` | INTEGER | Quantidade de vagas extraordinárias para a cota 10 |\n",
    "| `VAGAS_EXTRAORDINARIAS_L13` | INTEGER | Quantidade de vagas extraordinárias para a cota 13 |\n",
    "| `VAGAS_EXTRAORDINARIAS_L14` | INTEGER | Quantidade de vagas extraordinárias para a cota 14 |\n",
    "| `VAGAS_EXTRAORDINARIAS_L2` | INTEGER | Quantidade de vagas extraordinárias para a cota 2 |\n",
    "| `VAGAS_EXTRAORDINARIAS_L5` | INTEGER | Quantidade de vagas extraordinárias para a cota 5 |\n",
    "| `VAGAS_EXTRAORDINARIAS_L9` | INTEGER | Quantidade de vagas extraordinárias para a cota 9 |\n",
    "| `VAGAS_REGULARES_AC` | INTEGER | Quantidade de vagas regulares para ampla concorrência |\n",
    "| `VAGAS_REGULARES_L1` | INTEGER | Quantidade de vagas regulares para a cota 1 |\n",
    "| `VAGAS_REGULARES_L10` | INTEGER | Quantidade de vagas regulares para a cota 10 |\n",
    "| `VAGAS_REGULARES_L13` | INTEGER | Quantidade de vagas regulares para a cota 13 |\n",
    "| `VAGAS_REGULARES_L14` | INTEGER | Quantidade de vagas regulares para a cota 14 |\n",
    "| `VAGAS_REGULARES_L2` | INTEGER | Quantidade de vagas regulares para a cota 2 |\n",
    "| `VAGAS_REGULARES_L5` | INTEGER | Quantidade de vagas regulares para a cota 5 |\n",
    "| `VAGAS_REGULARES_L6` | INTEGER | Quantidade de vagas regulares para a cota 6 |\n",
    "| `VAGAS_REGULARES_L9` | INTEGER | Quantidade de vagas regulares para a cota 9 |"
   ]
  },
  {
   "cell_type": "code",
   "execution_count": 31,
   "metadata": {},
   "outputs": [
    {
     "name": "stdout",
     "output_type": "stream",
     "text": [
      "Conexão com o banco de dados estabelecida com sucesso!\n",
      "Tabela microdados criada com sucesso!\n"
     ]
    }
   ],
   "source": [
    "conn, cursor = conectar_banco_dados()\n",
    "\n",
    "if conn:\n",
    "    # Criar a tabela \"microdados\" \n",
    "    cursor.execute(\"\"\"\n",
    "    CREATE TABLE IF NOT EXISTS microdados (\n",
    "        carga_horaria INTEGER,\n",
    "        carga_horaria_minima INTEGER,\n",
    "        categoria_situacao TEXT,\n",
    "        co_inst INTEGER,\n",
    "        cod_unidade INTEGER,\n",
    "        cor_raca TEXT,\n",
    "        codigo_da_matricula INTEGER,\n",
    "        codigo_da_unidade_de_ensino_sistec INTEGER,\n",
    "        codigo_ciclo_matricula INTEGER,\n",
    "        codigo_do_municipio_dv INTEGER,\n",
    "        data_inicio_ciclo TEXT,\n",
    "        data_fim_previsto_ciclo TEXT,\n",
    "        data_ocorrencia_matricula TEXT,\n",
    "        eixo_tecnologico TEXT,\n",
    "        faixa_etaria TEXT,\n",
    "        fator_esforco_curso TEXT,\n",
    "        fonte_de_financiamento TEXT,\n",
    "        idade INTEGER,\n",
    "        instituicao TEXT,\n",
    "        matriculas_atendida TEXT,\n",
    "        matriculas_equivalentes TEXT,\n",
    "        modalidade_de_ensino TEXT,\n",
    "        municipio TEXT,\n",
    "        mes_de_ocorrencia_da_situacao TEXT,\n",
    "        nome_de_curso TEXT,\n",
    "        numero_registros INTEGER,\n",
    "        regiao TEXT,\n",
    "        renda_familiar TEXT,\n",
    "        sexo TEXT,\n",
    "        situacao_de_matricula TEXT,\n",
    "        subeixo_tecnologico TEXT,\n",
    "        tipo_de_curso TEXT,\n",
    "        tipo_de_oferta TEXT,\n",
    "        total_inscritos INTEGER,\n",
    "        turno TEXT,\n",
    "        uf TEXT,\n",
    "        unidade_de_ensino TEXT,\n",
    "        vagas_extraordinarias_ac INTEGER,\n",
    "        vagas_extraordinarias_l1 INTEGER,\n",
    "        vagas_extraordinarias_l10 INTEGER,\n",
    "        vagas_extraordinarias_l13 INTEGER,\n",
    "        vagas_extraordinarias_l14 INTEGER,\n",
    "        vagas_extraordinarias_l2 INTEGER,\n",
    "        vagas_extraordinarias_l5 INTEGER,\n",
    "        vagas_extraordinarias_l9 INTEGER,\n",
    "        vagas_regulares_ac INTEGER,\n",
    "        vagas_regulares_l1 INTEGER,\n",
    "        vagas_regulares_l10 INTEGER,\n",
    "        vagas_regulares_l13 INTEGER,\n",
    "        vagas_regulares_l14 INTEGER,\n",
    "        vagas_regulares_l2 INTEGER,\n",
    "        vagas_regulares_l5 INTEGER,\n",
    "        vagas_regulares_l6 INTEGER,\n",
    "        vagas_regulares_l9 INTEGER\n",
    "    )\n",
    "    \"\"\")\n",
    "   \n",
    "    print(\"Tabela microdados criada com sucesso!\")\n",
    "\n",
    "    # Salvar as alterações \n",
    "    conn.commit()\n",
    "\n",
    "    # Fechar a conexão\n",
    "    cursor.close()\n",
    "    conn.close()\n"
   ]
  },
  {
   "cell_type": "code",
   "execution_count": 32,
   "metadata": {},
   "outputs": [
    {
     "name": "stdout",
     "output_type": "stream",
     "text": [
      "Conexão com o banco de dados estabelecida com sucesso!\n",
      "Tabela CargosCarreira criada com sucesso!\n"
     ]
    }
   ],
   "source": [
    "# Conecta ao banco de dados\n",
    "conn, cursor = conectar_banco_dados()\n",
    "\n",
    "if conn:\n",
    "    # Cria a tabela CargosCarreira\n",
    "    cursor.execute(\"\"\"\n",
    "    CREATE TABLE IF NOT EXISTS cargos_carreira (\n",
    "        ano INTEGER,\n",
    "        regiao TEXT,\n",
    "        uf TEXT,\n",
    "        estado TEXT,\n",
    "        organizacao_academica TEXT,\n",
    "        instituicao TEXT,\n",
    "        instituicao_nome TEXT,\n",
    "        carreira_sigla TEXT,\n",
    "        numero_servidores INTEGER\n",
    "    )\n",
    "    \"\"\")\n",
    "\n",
    "    print(\"Tabela CargosCarreira criada com sucesso!\")\n",
    "\n",
    "    # Fecha a conexão\n",
    "    conn.commit()\n",
    "    cursor.close()\n",
    "    conn.close()\n"
   ]
  },
  {
   "cell_type": "code",
   "execution_count": 33,
   "metadata": {},
   "outputs": [
    {
     "name": "stdout",
     "output_type": "stream",
     "text": [
      "Conexão com o banco de dados estabelecida com sucesso!\n",
      "Tabela ClassificacaoRacialRendaSexo criada com sucesso!\n"
     ]
    }
   ],
   "source": [
    "# Conecta ao banco de dados\n",
    "conn, cursor = conectar_banco_dados()\n",
    "\n",
    "if conn:\n",
    "    # Cria a tabela ClassificacaoRacialRendaSexo\n",
    "    cursor.execute(\"\"\"\n",
    "    CREATE TABLE IF NOT EXISTS classificacao_racial_renda_sexo (\n",
    "        ano INTEGER,\n",
    "        regiao TEXT,\n",
    "        uf TEXT,\n",
    "        estado TEXT,\n",
    "        organizacao_academica TEXT,\n",
    "        instituicao TEXT,\n",
    "        instituicao_nome TEXT,\n",
    "        cor_raca TEXT,\n",
    "        renda_familiar TEXT,\n",
    "        faixa_etaria TEXT,\n",
    "        sexo TEXT,\n",
    "        numero_concluintes INTEGER,\n",
    "        numero_ingressantes INTEGER,\n",
    "        numero_matriculas INTEGER,\n",
    "        numero_vagas INTEGER\n",
    "    )\n",
    "    \"\"\")\n",
    "\n",
    "    print(\"Tabela ClassificacaoRacialRendaSexo criada com sucesso!\")\n",
    "\n",
    "    # Fecha a conexão\n",
    "    conn.commit()\n",
    "    cursor.close()\n",
    "    conn.close()\n"
   ]
  },
  {
   "cell_type": "code",
   "execution_count": 34,
   "metadata": {},
   "outputs": [
    {
     "name": "stdout",
     "output_type": "stream",
     "text": [
      "Conexão com o banco de dados estabelecida com sucesso!\n",
      "Tabela CPC criada com sucesso!\n"
     ]
    }
   ],
   "source": [
    "# Conecta ao banco de dados\n",
    "conn, cursor = conectar_banco_dados()\n",
    "\n",
    "if conn:\n",
    "    # Cria a tabela CPC\n",
    "    cursor.execute(\"\"\"\n",
    "    CREATE TABLE IF NOT EXISTS cpc (\n",
    "        ano INTEGER,\n",
    "        nome_unidade TEXT,\n",
    "        nome_unidade_recente TEXT,\n",
    "        sigla TEXT,\n",
    "        regiao TEXT,\n",
    "        estado TEXT,\n",
    "        tipo TEXT,\n",
    "        sigla_ies TEXT,\n",
    "        nome_do_curso TEXT,\n",
    "        nome_area TEXT,\n",
    "        gnp_cpc_continuo NUMERIC,\n",
    "        gnp_enade NUMERIC,\n",
    "        gnp_docentes_doutores NUMERIC,\n",
    "        gnp_docentes_mestres NUMERIC,\n",
    "        gnp_idd NUMERIC,\n",
    "        gnp_infraestrutura NUMERIC,\n",
    "        gnp_org_didatico_pedagogica NUMERIC,\n",
    "        gnp_oportunidades_ampliacao_formacao NUMERIC,\n",
    "        gnp_regime_trabalho NUMERIC,\n",
    "        gnb_docentes_doutores NUMERIC,\n",
    "        gnb_docentes_mestres NUMERIC,\n",
    "        gnb_idd NUMERIC,\n",
    "        gnb_infraestrutura NUMERIC,\n",
    "        gnb_org_didatico_pedagogica NUMERIC,\n",
    "        gnb_oportunidades_ampliacao_formacao NUMERIC,\n",
    "        gnb_regime_trabalho NUMERIC,\n",
    "        cursos INTEGER,\n",
    "        medida_cpc NUMERIC\n",
    "    )\n",
    "    \"\"\")\n",
    "\n",
    "    print(\"Tabela CPC criada com sucesso!\")\n",
    "\n",
    "    # Fecha a conexão\n",
    "    conn.commit()\n",
    "    cursor.close()\n",
    "    conn.close()\n"
   ]
  },
  {
   "cell_type": "code",
   "execution_count": 35,
   "metadata": {},
   "outputs": [
    {
     "name": "stdout",
     "output_type": "stream",
     "text": [
      "Conexão com o banco de dados estabelecida com sucesso!\n",
      "Tabela DadosGerais criada com sucesso!\n"
     ]
    }
   ],
   "source": [
    "# Conecta ao banco de dados\n",
    "conn, cursor = conectar_banco_dados()\n",
    "\n",
    "if conn:\n",
    "    # Cria a tabela DadosGerais\n",
    "    cursor.execute(\"\"\"\n",
    "    CREATE TABLE IF NOT EXISTS dados_gerais (\n",
    "        ano INTEGER,\n",
    "        regiao TEXT,\n",
    "        uf TEXT,\n",
    "        estado TEXT,\n",
    "        organizacao_academica TEXT,\n",
    "        instituicao TEXT,\n",
    "        instituicao_nome TEXT,\n",
    "        nome_curso TEXT,\n",
    "        tipo_curso TEXT,\n",
    "        tipo_eixo_tecnologico TEXT,\n",
    "        subeixo_tecnologico TEXT,\n",
    "        tipo_oferta TEXT,\n",
    "        turno_curso TEXT,\n",
    "        modalidade_ensino TEXT,\n",
    "        nome_fonte_financiamento TEXT,\n",
    "        numero_cursos INTEGER,\n",
    "        numero_concluintes INTEGER,\n",
    "        numero_ingressantes INTEGER,\n",
    "        numero_inscritos INTEGER,\n",
    "        numero_matriculas INTEGER,\n",
    "        numero_vagas INTEGER,\n",
    "        matricula_equivalente_apresentada_geral NUMERIC\n",
    "    )\n",
    "    \"\"\")\n",
    "\n",
    "    print(\"Tabela DadosGerais criada com sucesso!\")\n",
    "\n",
    "    # Fecha a conexão\n",
    "    conn.commit()\n",
    "    cursor.close()\n",
    "    conn.close()\n"
   ]
  },
  {
   "cell_type": "code",
   "execution_count": 36,
   "metadata": {},
   "outputs": [
    {
     "name": "stdout",
     "output_type": "stream",
     "text": [
      "Conexão com o banco de dados estabelecida com sucesso!\n",
      "Tabela eficiencia_academica criada com sucesso!\n"
     ]
    }
   ],
   "source": [
    "# Conecta ao banco de dados\n",
    "conn, cursor = conectar_banco_dados()\n",
    "\n",
    "if conn:\n",
    "    # Cria a tabela eficiencia_academica\n",
    "    cursor.execute(\"\"\"\n",
    "    CREATE TABLE IF NOT EXISTS eficiencia_academica (\n",
    "        ano INTEGER,\n",
    "        regiao TEXT,\n",
    "        uf TEXT,\n",
    "        estado TEXT,\n",
    "        organizacao_academica TEXT,\n",
    "        instituicao TEXT,\n",
    "        instituicao_nome TEXT,\n",
    "        nome_unidade_recente TEXT,\n",
    "        eficiencia_academica_concluidos INTEGER,\n",
    "        eficiencia_academica_concluidos_percentual NUMERIC,\n",
    "        eficiencia_academica_indice_eficiencia_academica_percentual NUMERIC,\n",
    "        eficiencia_academica_numero_evadidos INTEGER,\n",
    "        eficiencia_academica_retidos INTEGER,\n",
    "        eficiencia_academica_retidos_percentual NUMERIC,\n",
    "        eficiencia_academica_taxa_evasao_percentual NUMERIC\n",
    "    )\n",
    "    \"\"\")\n",
    "\n",
    "    print(\"Tabela eficiencia_academica criada com sucesso!\")\n",
    "\n",
    "    # Fecha a conexão\n",
    "    conn.commit()\n",
    "    cursor.close()\n",
    "    conn.close()\n"
   ]
  },
  {
   "cell_type": "code",
   "execution_count": 37,
   "metadata": {},
   "outputs": [
    {
     "name": "stdout",
     "output_type": "stream",
     "text": [
      "Conexão com o banco de dados estabelecida com sucesso!\n",
      "Tabela IGC criada com sucesso!\n"
     ]
    }
   ],
   "source": [
    "# Conecta ao banco de dados\n",
    "conn, cursor = conectar_banco_dados()\n",
    "\n",
    "if conn:\n",
    "    # Cria a tabela IGC\n",
    "    cursor.execute(\"\"\"\n",
    "    CREATE TABLE IF NOT EXISTS igc (\n",
    "        ano INTEGER,\n",
    "        sigla TEXT,\n",
    "        regiao TEXT,\n",
    "        estado TEXT,\n",
    "        sigla_ies TEXT,\n",
    "        g_igc_faixa INTEGER,\n",
    "        igc_continuo NUMERIC,\n",
    "        g_cursos_com_cpc_no_trienio INTEGER,\n",
    "        g_conceito_medio_de_graduacao NUMERIC,\n",
    "        g_conceito_medio_de_mestrado NUMERIC,\n",
    "        g_conceito_medio_do_doutorado NUMERIC,\n",
    "        g_alfa NUMERIC,\n",
    "        g_beta NUMERIC,\n",
    "        g_gama NUMERIC,\n",
    "        numero_de_instituicoes_igc INTEGER,\n",
    "        medida_igc INTEGER\n",
    "    )\n",
    "    \"\"\")\n",
    "\n",
    "    print(\"Tabela IGC criada com sucesso!\")\n",
    "\n",
    "    # Fecha a conexão\n",
    "    conn.commit()\n",
    "    cursor.close()\n",
    "    conn.close()\n"
   ]
  },
  {
   "cell_type": "code",
   "execution_count": 38,
   "metadata": {},
   "outputs": [
    {
     "name": "stdout",
     "output_type": "stream",
     "text": [
      "Conexão com o banco de dados estabelecida com sucesso!\n",
      "Tabela IndicadoresGastos criada com sucesso!\n"
     ]
    }
   ],
   "source": [
    "# Conecta ao banco de dados\n",
    "conn, cursor = conectar_banco_dados()\n",
    "\n",
    "if conn:\n",
    "    # Cria a tabela IndicadoresGastos\n",
    "    cursor.execute(\"\"\"\n",
    "    CREATE TABLE IF NOT EXISTS indicadores_gastos (\n",
    "        ano INTEGER,\n",
    "        regiao TEXT,\n",
    "        uf TEXT,\n",
    "        estado TEXT,\n",
    "        organizacao_academica TEXT,\n",
    "        instituicao TEXT,\n",
    "        instituicao_nome TEXT,\n",
    "        gastos_correntes_matricula NUMERIC,\n",
    "        gastos_correntes_gastos_totais NUMERIC,\n",
    "        gastos_correntes_gastos_correntes NUMERIC,\n",
    "        gastos_correntes_inativos_pensionistas NUMERIC,\n",
    "        gastos_correntes_investimentos_inversoes_financeiras NUMERIC,\n",
    "        gastos_correntes_precatorios NUMERIC,\n",
    "        gastos_correntes_outros_custeios NUMERIC,\n",
    "        gastos_correntes_pessoal NUMERIC\n",
    "    )\n",
    "    \"\"\")\n",
    "\n",
    "    print(\"Tabela IndicadoresGastos criada com sucesso!\")\n",
    "\n",
    "    # Fecha a conexão\n",
    "    conn.commit()\n",
    "    cursor.close()\n",
    "    conn.close()\n"
   ]
  },
  {
   "cell_type": "code",
   "execution_count": 39,
   "metadata": {},
   "outputs": [
    {
     "name": "stdout",
     "output_type": "stream",
     "text": [
      "Conexão com o banco de dados estabelecida com sucesso!\n",
      "Tabela IndiceVerticalizacao criada com sucesso!\n"
     ]
    }
   ],
   "source": [
    "# Conecta ao banco de dados\n",
    "conn, cursor = conectar_banco_dados()\n",
    "\n",
    "if conn:\n",
    "    # Cria a tabela IndiceVerticalizacao\n",
    "    cursor.execute(\"\"\"\n",
    "    CREATE TABLE IF NOT EXISTS indice_verticalizacao (\n",
    "        ano INTEGER,\n",
    "        regiao TEXT,\n",
    "        uf TEXT,\n",
    "        estado TEXT,\n",
    "        organizacao_academica TEXT,\n",
    "        instituicao TEXT,\n",
    "        instituicao_nome TEXT,\n",
    "        indice_verticalizacao_eixo_tecnologico INTEGER\n",
    "    )\n",
    "    \"\"\")\n",
    "\n",
    "    print(\"Tabela IndiceVerticalizacao criada com sucesso!\")\n",
    "\n",
    "    # Fecha a conexão\n",
    "    conn.commit()\n",
    "    cursor.close()\n",
    "    conn.close()\n"
   ]
  },
  {
   "cell_type": "code",
   "execution_count": 40,
   "metadata": {},
   "outputs": [
    {
     "name": "stdout",
     "output_type": "stream",
     "text": [
      "Conexão com o banco de dados estabelecida com sucesso!\n",
      "Tabela OfertaVagasNoturnas criada com sucesso!\n"
     ]
    }
   ],
   "source": [
    "# Conecta ao banco de dados\n",
    "conn, cursor = conectar_banco_dados()\n",
    "\n",
    "if conn:\n",
    "    # Cria a tabela OfertaVagasNoturnas\n",
    "    cursor.execute(\"\"\"\n",
    "    CREATE TABLE IF NOT EXISTS oferta_vagas_noturnas (\n",
    "        ano INTEGER,\n",
    "        regiao TEXT,\n",
    "        uf TEXT,\n",
    "        estado TEXT,\n",
    "        organizacao_academica TEXT,\n",
    "        instituicao TEXT,\n",
    "        instituicao_nome TEXT,\n",
    "        oferta_vagas_curso_noturno INTEGER,\n",
    "        oferta_vagas_curso_noturno_percentual NUMERIC,\n",
    "        oferta_vagas_graduacao INTEGER\n",
    "    )\n",
    "    \"\"\")\n",
    "\n",
    "    print(\"Tabela OfertaVagasNoturnas criada com sucesso!\")\n",
    "\n",
    "    # Fecha a conexão\n",
    "    conn.commit()\n",
    "    cursor.close()\n",
    "    conn.close()\n"
   ]
  },
  {
   "cell_type": "code",
   "execution_count": 41,
   "metadata": {},
   "outputs": [
    {
     "name": "stdout",
     "output_type": "stream",
     "text": [
      "Conexão com o banco de dados estabelecida com sucesso!\n",
      "Tabela PanoramaOrçamentário criada com sucesso!\n"
     ]
    }
   ],
   "source": [
    "# Conecta ao banco de dados\n",
    "conn, cursor = conectar_banco_dados()\n",
    "\n",
    "if conn:\n",
    "    # Cria a tabela PanoramaOrçamentário\n",
    "    cursor.execute(\"\"\"\n",
    "    CREATE TABLE IF NOT EXISTS panorama_orcamentario (\n",
    "        ano INTEGER,\n",
    "        regiao TEXT,\n",
    "        uf TEXT,\n",
    "        estado TEXT,\n",
    "        organizacao_academica TEXT,\n",
    "        instituicao TEXT,\n",
    "        instituicao_nome TEXT,\n",
    "        resultado_primario_cidada TEXT,\n",
    "        despesa_empenhada NUMERIC,\n",
    "        despesa_liquidada NUMERIC,\n",
    "        despesa_paga NUMERIC,\n",
    "        despesa_liq_rp NUMERIC,\n",
    "        despesa_empenhada_a_liquidar NUMERIC,\n",
    "        credito_disponivel NUMERIC\n",
    "    )\n",
    "    \"\"\")\n",
    "\n",
    "    print(\"Tabela PanoramaOrçamentário criada com sucesso!\")\n",
    "\n",
    "    # Fecha a conexão\n",
    "    conn.commit()\n",
    "    cursor.close()\n",
    "    conn.close()\n"
   ]
  },
  {
   "cell_type": "code",
   "execution_count": 42,
   "metadata": {},
   "outputs": [
    {
     "name": "stdout",
     "output_type": "stream",
     "text": [
      "Conexão com o banco de dados estabelecida com sucesso!\n",
      "Tabela percentuais_legais criada com sucesso!\n"
     ]
    }
   ],
   "source": [
    "# Conecta ao banco de dados\n",
    "conn, cursor = conectar_banco_dados()\n",
    "\n",
    "if conn:\n",
    "    # Cria a tabela Percentuais Legais\n",
    "    cursor.execute(\"\"\"\n",
    "    CREATE TABLE IF NOT EXISTS percentuais_legais (\n",
    "        ano INTEGER,\n",
    "        regiao TEXT,\n",
    "        uf TEXT,\n",
    "        estado TEXT,\n",
    "        organizacao_academica TEXT,\n",
    "        instituicao TEXT,\n",
    "        instituicao_nome TEXT,\n",
    "        matricula_equivalente_formacao_professores NUMERIC,\n",
    "        matricula_equivalente_tecnicos NUMERIC,\n",
    "        matricula_equivalente_proeja NUMERIC,\n",
    "        matricula_equivalente_geral NUMERIC\n",
    "    )\n",
    "    \"\"\")\n",
    "\n",
    "    print(\"Tabela percentuais_legais criada com sucesso!\")\n",
    "\n",
    "    # Fecha a conexão\n",
    "    conn.commit()\n",
    "    cursor.close()\n",
    "    conn.close()\n"
   ]
  },
  {
   "cell_type": "code",
   "execution_count": 43,
   "metadata": {},
   "outputs": [
    {
     "name": "stdout",
     "output_type": "stream",
     "text": [
      "Conexão com o banco de dados estabelecida com sucesso!\n",
      "Tabela professores_por_instituicao criada com sucesso!\n"
     ]
    }
   ],
   "source": [
    "# Conecta ao banco de dados\n",
    "conn, cursor = conectar_banco_dados()\n",
    "\n",
    "if conn:\n",
    "    # Cria a tabela professores_por_instituicao\n",
    "    cursor.execute(\"\"\"\n",
    "    CREATE TABLE IF NOT EXISTS professores_por_instituicao (\n",
    "        ano INTEGER,\n",
    "        regiao TEXT,\n",
    "        uf TEXT,\n",
    "        estado TEXT,\n",
    "        organizacao_academica TEXT,\n",
    "        instituicao TEXT,\n",
    "        instituicao_nome TEXT,\n",
    "        titulacao TEXT,\n",
    "        jornada_de_trabalho TEXT,\n",
    "        numero_docentes INTEGER\n",
    "    )\n",
    "    \"\"\")\n",
    "\n",
    "    print(\"Tabela professores_por_instituicao criada com sucesso!\")\n",
    "\n",
    "    # Fecha a conexão\n",
    "    conn.commit()\n",
    "    cursor.close()\n",
    "    conn.close()\n"
   ]
  },
  {
   "cell_type": "code",
   "execution_count": 44,
   "metadata": {},
   "outputs": [
    {
     "name": "stdout",
     "output_type": "stream",
     "text": [
      "Conexão com o banco de dados estabelecida com sucesso!\n",
      "Tabela relacao_aluno_professor criada com sucesso!\n"
     ]
    }
   ],
   "source": [
    "# Conecta ao banco de dados\n",
    "conn, cursor = conectar_banco_dados()\n",
    "\n",
    "if conn:\n",
    "    # Cria a tabela relacao_aluno_professor\n",
    "    cursor.execute(\"\"\"\n",
    "    CREATE TABLE IF NOT EXISTS relacao_aluno_professor (\n",
    "        ano INTEGER,\n",
    "        regiao TEXT,\n",
    "        uf TEXT,\n",
    "        estado TEXT,\n",
    "        organizacao_academica TEXT,\n",
    "        instituicao TEXT,\n",
    "        instituicao_nome TEXT,\n",
    "        rap NUMERIC,\n",
    "        matriculas_rap INTEGER,\n",
    "        professor_equivalente INTEGER\n",
    "    )\n",
    "    \"\"\")\n",
    "\n",
    "    print(\"Tabela relacao_aluno_professor criada com sucesso!\")\n",
    "\n",
    "    # Fecha a conexão\n",
    "    conn.commit()\n",
    "    cursor.close()\n",
    "    conn.close()\n"
   ]
  },
  {
   "cell_type": "code",
   "execution_count": 45,
   "metadata": {},
   "outputs": [
    {
     "name": "stdout",
     "output_type": "stream",
     "text": [
      "Conexão com o banco de dados estabelecida com sucesso!\n",
      "Tabela relacao_inscritos_vagas criada com sucesso!\n"
     ]
    }
   ],
   "source": [
    "# Conecta ao banco de dados\n",
    "conn, cursor = conectar_banco_dados()\n",
    "\n",
    "if conn:\n",
    "    # Cria a tabela relacao_inscritos_vagas\n",
    "    cursor.execute(\"\"\"\n",
    "    CREATE TABLE IF NOT EXISTS relacao_inscritos_vagas (\n",
    "        ano INTEGER,\n",
    "        regiao TEXT,\n",
    "        uf TEXT,\n",
    "        estado TEXT,\n",
    "        organizacao_academica TEXT,\n",
    "        instituicao TEXT,\n",
    "        instituicao_nome TEXT,\n",
    "        numero_inscritos INTEGER,\n",
    "        numero_vagas INTEGER,\n",
    "        relacao_inscrito_vaga NUMERIC\n",
    "    )\n",
    "    \"\"\")\n",
    "\n",
    "    print(\"Tabela relacao_inscritos_vagas criada com sucesso!\")\n",
    "\n",
    "    # Fecha a conexão\n",
    "    conn.commit()\n",
    "    cursor.close()\n",
    "    conn.close()\n"
   ]
  },
  {
   "cell_type": "code",
   "execution_count": 46,
   "metadata": {},
   "outputs": [
    {
     "name": "stdout",
     "output_type": "stream",
     "text": [
      "Conexão com o banco de dados estabelecida com sucesso!\n",
      "Tabela reserva_vagas criada com sucesso!\n"
     ]
    }
   ],
   "source": [
    "# Conecta ao banco de dados\n",
    "conn, cursor = conectar_banco_dados()\n",
    "\n",
    "if conn:\n",
    "    # Cria a tabela reserva_vagas\n",
    "    cursor.execute(\"\"\"\n",
    "    CREATE TABLE IF NOT EXISTS reserva_vagas (\n",
    "        ano INTEGER,\n",
    "        regiao TEXT,\n",
    "        uf TEXT,\n",
    "        estado TEXT,\n",
    "        organizacao_academica TEXT,\n",
    "        instituicao TEXT,\n",
    "        instituicao_nome TEXT,\n",
    "        nome_unidade_recente TEXT,\n",
    "        tipo_reserva_vaga TEXT,\n",
    "        vagas_regulares INTEGER,\n",
    "        vagas_regulares_percentual NUMERIC\n",
    "    )\n",
    "    \"\"\")\n",
    "\n",
    "    print(\"Tabela reserva_vagas criada com sucesso!\")\n",
    "\n",
    "    # Fecha a conexão\n",
    "    conn.commit()\n",
    "    cursor.close()\n",
    "    conn.close()\n"
   ]
  },
  {
   "cell_type": "code",
   "execution_count": 47,
   "metadata": {},
   "outputs": [
    {
     "name": "stdout",
     "output_type": "stream",
     "text": [
      "Conexão com o banco de dados estabelecida com sucesso!\n",
      "Tabela situacao_matricula criada com sucesso!\n"
     ]
    }
   ],
   "source": [
    "# Conecta ao banco de dados\n",
    "conn, cursor = conectar_banco_dados()\n",
    "\n",
    "if conn:\n",
    "    # Cria a tabela situacao_matricula\n",
    "    cursor.execute(\"\"\"\n",
    "    CREATE TABLE IF NOT EXISTS situacao_matricula (\n",
    "        ano INTEGER,\n",
    "        regiao TEXT,\n",
    "        uf TEXT,\n",
    "        estado TEXT,\n",
    "        organizacao_academica TEXT,\n",
    "        instituicao TEXT,\n",
    "        instituicao_nome TEXT,\n",
    "        categoria_situacao TEXT,\n",
    "        nome_situacao TEXT,\n",
    "        fluxo_retido TEXT,\n",
    "        numero_matriculas INTEGER\n",
    "    )\n",
    "    \"\"\")\n",
    "\n",
    "    print(\"Tabela situacao_matricula criada com sucesso!\")\n",
    "\n",
    "    # Fecha a conexão\n",
    "    conn.commit()\n",
    "    cursor.close()\n",
    "    conn.close()\n"
   ]
  },
  {
   "cell_type": "code",
   "execution_count": 48,
   "metadata": {},
   "outputs": [
    {
     "name": "stdout",
     "output_type": "stream",
     "text": [
      "Conexão com o banco de dados estabelecida com sucesso!\n",
      "Tabela taxa_evasao criada com sucesso!\n"
     ]
    }
   ],
   "source": [
    "# Conecta ao banco de dados\n",
    "conn, cursor = conectar_banco_dados()\n",
    "\n",
    "if conn:\n",
    "    # Cria a tabela taxa_evasao\n",
    "    cursor.execute(\"\"\"\n",
    "    CREATE TABLE IF NOT EXISTS taxa_evasao (\n",
    "        ano INTEGER,\n",
    "        regiao TEXT,\n",
    "        uf TEXT,\n",
    "        estado TEXT,\n",
    "        organizacao_academica TEXT,\n",
    "        instituicao TEXT,\n",
    "        instituicao_nome TEXT,\n",
    "        nome_curso TEXT,\n",
    "        tipo_curso TEXT,\n",
    "        tipo_eixo_tecnologico TEXT,\n",
    "        subeixo_tecnologico TEXT,\n",
    "        tipo_oferta TEXT,\n",
    "        turno_curso TEXT,\n",
    "        modalidade_ensino TEXT,\n",
    "        nome_fonte_financiamento TEXT,\n",
    "        numero_matriculas INTEGER,\n",
    "        matriculas_numero_evadidos INTEGER,\n",
    "        matriculas_taxa_evasao_percentual NUMERIC\n",
    "    )\n",
    "    \"\"\")\n",
    "\n",
    "    print(\"Tabela taxa_evasao criada com sucesso!\")\n",
    "\n",
    "    # Fecha a conexão\n",
    "    conn.commit()\n",
    "    cursor.close()\n",
    "    conn.close()\n"
   ]
  },
  {
   "cell_type": "code",
   "execution_count": 49,
   "metadata": {},
   "outputs": [
    {
     "name": "stdout",
     "output_type": "stream",
     "text": [
      "Conexão com o banco de dados estabelecida com sucesso!\n",
      "Tabela taxa_ocupacao criada com sucesso!\n"
     ]
    }
   ],
   "source": [
    "# Conecta ao banco de dados\n",
    "conn, cursor = conectar_banco_dados()\n",
    "\n",
    "if conn:\n",
    "    # Cria a tabela taxa_ocupacao\n",
    "    cursor.execute(\"\"\"\n",
    "    CREATE TABLE IF NOT EXISTS taxa_ocupacao (\n",
    "        ano INTEGER,\n",
    "        regiao TEXT,\n",
    "        uf TEXT,\n",
    "        estado TEXT,\n",
    "        organizacao_academica TEXT,\n",
    "        instituicao TEXT,\n",
    "        instituicao_nome TEXT,\n",
    "        matriculas_ciclos_vigentes INTEGER,\n",
    "        vagas_ciclos_vigentes INTEGER,\n",
    "        taxa_ocupacao NUMERIC\n",
    "    )\n",
    "    \"\"\")\n",
    "\n",
    "    print(\"Tabela taxa_ocupacao criada com sucesso!\")\n",
    "\n",
    "    # Fecha a conexão\n",
    "    conn.commit()\n",
    "    cursor.close()\n",
    "    conn.close()\n"
   ]
  },
  {
   "cell_type": "code",
   "execution_count": 50,
   "metadata": {},
   "outputs": [
    {
     "name": "stdout",
     "output_type": "stream",
     "text": [
      "Conexão com o banco de dados estabelecida com sucesso!\n",
      "Tabela tae_por_titulacao criada com sucesso!\n"
     ]
    }
   ],
   "source": [
    "# Conecta ao banco de dados\n",
    "conn, cursor = conectar_banco_dados()\n",
    "\n",
    "if conn:\n",
    "    # Cria a tabela tae_por_titulacao\n",
    "    cursor.execute(\"\"\"\n",
    "    CREATE TABLE IF NOT EXISTS tae_por_titulacao (\n",
    "        ano INTEGER,\n",
    "        regiao TEXT,\n",
    "        uf TEXT,\n",
    "        estado TEXT,\n",
    "        organizacao_academica TEXT,\n",
    "        instituicao TEXT,\n",
    "        instituicao_nome TEXT,\n",
    "        titulacao TEXT,\n",
    "        numero_tae INTEGER\n",
    "    )\n",
    "    \"\"\")\n",
    "\n",
    "    print(\"Tabela tae_por_titulacao criada com sucesso!\")\n",
    "\n",
    "    # Fecha a conexão\n",
    "    conn.commit()\n",
    "    cursor.close()\n",
    "    conn.close()\n"
   ]
  },
  {
   "cell_type": "code",
   "execution_count": 51,
   "metadata": {},
   "outputs": [
    {
     "name": "stdout",
     "output_type": "stream",
     "text": [
      "Conexão com o banco de dados estabelecida com sucesso!\n",
      "Tabela titulacao_docente criada com sucesso!\n"
     ]
    }
   ],
   "source": [
    "# Conecta ao banco de dados\n",
    "conn, cursor = conectar_banco_dados()\n",
    "\n",
    "if conn:\n",
    "    # Cria a tabela titulacao_docente\n",
    "    cursor.execute(\"\"\"\n",
    "    CREATE TABLE IF NOT EXISTS titulacao_docente (\n",
    "        ano INTEGER,\n",
    "        regiao TEXT,\n",
    "        uf TEXT,\n",
    "        estado TEXT,\n",
    "        organizacao_academica TEXT,\n",
    "        instituicao TEXT,\n",
    "        instituicao_nome TEXT,\n",
    "        docente_efetivo INTEGER,\n",
    "        numero_docentes INTEGER,\n",
    "        numero_servidores INTEGER,\n",
    "        itcd NUMERIC\n",
    "    )\n",
    "    \"\"\")\n",
    "\n",
    "    print(\"Tabela titulacao_docente criada com sucesso!\")\n",
    "\n",
    "    # Fecha a conexão\n",
    "    conn.commit()\n",
    "    cursor.close()\n",
    "    conn.close()\n"
   ]
  }
 ],
 "metadata": {
  "kernelspec": {
   "display_name": "Python 3",
   "language": "python",
   "name": "python3"
  },
  "language_info": {
   "codemirror_mode": {
    "name": "ipython",
    "version": 3
   },
   "file_extension": ".py",
   "mimetype": "text/x-python",
   "name": "python",
   "nbconvert_exporter": "python",
   "pygments_lexer": "ipython3",
   "version": "3.12.6"
  }
 },
 "nbformat": 4,
 "nbformat_minor": 2
}
