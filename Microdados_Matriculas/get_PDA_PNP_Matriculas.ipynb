{
 "cells": [
  {
   "cell_type": "code",
   "execution_count": null,
   "metadata": {},
   "outputs": [],
   "source": [
    "pip install beautifulsoup4"
   ]
  },
  {
   "cell_type": "code",
   "execution_count": null,
   "metadata": {},
   "outputs": [],
   "source": [
    "pip install requests"
   ]
  },
  {
   "cell_type": "code",
   "execution_count": 14,
   "metadata": {},
   "outputs": [
    {
     "name": "stdout",
     "output_type": "stream",
     "text": [
      "Dados da tabela foram salvos em dados_tabela.csv\n"
     ]
    }
   ],
   "source": [
    "import requests\n",
    "import json\n",
    "import csv\n",
    "\n",
    "def extract_data_from_odata_api(url, params=None):\n",
    "    \"\"\"Extrai dados de uma API OData.\"\"\"\n",
    "\n",
    "    response = requests.get(url, params=params)\n",
    "    response.raise_for_status()\n",
    "\n",
    "    data = json.loads(response.content)\n",
    "\n",
    "    headers = list(data['value'][0].keys())\n",
    "    rows = [list(item.values()) for item in data['value']]\n",
    "\n",
    "    return headers, rows\n",
    "\n",
    "def write_to_csv(headers, rows, filename='dados_tabela.csv'):\n",
    "\n",
    "    with open(filename, 'w', newline='', encoding='utf-8') as csvfile:\n",
    "        writer = csv.writer(csvfile)\n",
    "        writer.writerow(headers)\n",
    "        writer.writerows(rows)\n",
    "\n",
    "if __name__ == '__main__':\n",
    "    url = 'https://olinda.mec.gov.br/olinda-ide/servico/PDA_PNP/versao/v1/odata/PDA_PNP_Matriculas'\n",
    "    params = {\n",
    "        #'$top': 1000,  # Limitar o número de resultados (ajuste conforme necessário)\n",
    "    }\n",
    "    headers, rows = extract_data_from_odata_api(url, params)\n",
    "    write_to_csv(headers, rows)\n",
    "\n",
    "    print(f'Dados da tabela foram salvos em dados_tabela.csv')"
   ]
  }
 ],
 "metadata": {
  "kernelspec": {
   "display_name": "Python 3",
   "language": "python",
   "name": "python3"
  },
  "language_info": {
   "codemirror_mode": {
    "name": "ipython",
    "version": 3
   },
   "file_extension": ".py",
   "mimetype": "text/x-python",
   "name": "python",
   "nbconvert_exporter": "python",
   "pygments_lexer": "ipython3",
   "version": "3.12.4"
  }
 },
 "nbformat": 4,
 "nbformat_minor": 2
}
