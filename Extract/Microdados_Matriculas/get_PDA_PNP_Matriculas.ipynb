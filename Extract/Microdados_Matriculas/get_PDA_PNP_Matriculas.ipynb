{
 "cells": [
  {
   "cell_type": "markdown",
   "metadata": {},
   "source": [
    "## Extração de Microdados da Plataforma Nilo Peçanha\n",
    "\n",
    "Este script Python tem como objetivo realizar o download do arquivo CSV contendo os microdados da Plataforma Nilo Peçanha. Os microdados oferecem um nível de detalhamento e possibilidades de análise superior aos dados disponíveis através do módulo Extrator.\n",
    "\n",
    "**⚠️ Atenção:** Antes de utilizar esta base de dados, **verifique a data da última atualização** para garantir que você está trabalhando com as informações mais recentes.\n",
    "\n",
    "## Pré-requisitos\n",
    "\n",
    "* **Python:** Certifique-se de ter o Python instalado em seu sistema.\n",
    "* **Bibliotecas:** O script utiliza as bibliotecas `BeautifulSoup4` e `Requests`. Se você ainda não as possui, instale-as utilizando os seguintes comandos:\n",
    "\n",
    "   ```bash\n",
    "   pip install beautifulsoup4\n",
    "   pip install requests\n",
    "   ```\n",
    "\n",
    "## Como Utilizar\n",
    "\n",
    "1. **Instalação das bibliotecas (se necessário):** Execute os comandos de instalação acima caso ainda não tenha as bibliotecas `BeautifulSoup4` e `Requests`.\n",
    "\n",
    "2. **Execução do script:**\n",
    "   * Salve o código fornecido em um arquivo Python (por exemplo, `extrair_microdados.py`).\n",
    "   * Abra seu terminal ou prompt de comando e navegue até o diretório onde você salvou o arquivo.\n",
    "   * Execute o script utilizando o seguinte comando:\n",
    "\n",
    "     ```bash\n",
    "     python extrair_microdados.py\n",
    "     ```\n",
    "\n",
    "3. **Resultado:** Após a execução bem-sucedida, o arquivo `dados_tabela.csv` será criado no mesmo diretório do script, contendo os microdados extraídos.\n",
    "\n",
    "## Explicação do Código\n",
    "\n",
    "* **`extract_data_from_odata_api(url, params=None)`:** Esta função realiza a requisição à API OData, processa a resposta JSON e retorna os cabeçalhos e linhas de dados.\n",
    "* **`write_to_csv(headers, rows, filename='dados_tabela.csv')`:** Esta função grava os dados em um arquivo CSV.\n",
    "* **`if __name__ == '__main__':`:** Este bloco garante que o código principal seja executado apenas quando o script é executado diretamente, e não quando importado como um módulo.\n",
    "* **`url`:** Contém a URL da API OData da Plataforma Nilo Peçanha.\n",
    "* **`params`:** Permite a inclusão de parâmetros opcionais na requisição, como `$top` para limitar o número de resultados.\n",
    "\n",
    "**Observações:**\n",
    "\n",
    "* O script atualmente salva os dados em um arquivo chamado `dados_tabela.csv`. Você pode personalizar o nome do arquivo alterando o argumento `filename` na função `write_to_csv`.\n",
    "* O parâmetro `$top` na variável `params` está comentado. Se você desejar limitar o número de resultados retornados pela API, descomente essa linha e ajuste o valor conforme necessário.\n",
    "\n",
    "Lembre-se de que APIs podem ter limites de requisição ou exigir autenticação. Consulte a documentação da Plataforma Nilo Peçanha para obter informações detalhadas sobre o uso da API.\n",
    "\n",
    "**Última atualização**\n",
    "11 de setembro de 2024\n"
   ]
  },
  {
   "cell_type": "code",
   "execution_count": 1,
   "metadata": {},
   "outputs": [
    {
     "name": "stdout",
     "output_type": "stream",
     "text": [
      "Requirement already satisfied: beautifulsoup4 in c:\\users\\gu147345\\appdata\\local\\programs\\python\\python312\\lib\\site-packages (4.12.3)\n",
      "Requirement already satisfied: soupsieve>1.2 in c:\\users\\gu147345\\appdata\\local\\programs\\python\\python312\\lib\\site-packages (from beautifulsoup4) (2.6)\n",
      "Note: you may need to restart the kernel to use updated packages.\n"
     ]
    }
   ],
   "source": [
    "pip install beautifulsoup4"
   ]
  },
  {
   "cell_type": "code",
   "execution_count": 2,
   "metadata": {},
   "outputs": [
    {
     "name": "stdout",
     "output_type": "stream",
     "text": [
      "Requirement already satisfied: requests in c:\\users\\gu147345\\appdata\\local\\programs\\python\\python312\\lib\\site-packages (2.32.3)\n",
      "Requirement already satisfied: charset-normalizer<4,>=2 in c:\\users\\gu147345\\appdata\\local\\programs\\python\\python312\\lib\\site-packages (from requests) (3.3.2)\n",
      "Requirement already satisfied: idna<4,>=2.5 in c:\\users\\gu147345\\appdata\\local\\programs\\python\\python312\\lib\\site-packages (from requests) (3.7)\n",
      "Requirement already satisfied: urllib3<3,>=1.21.1 in c:\\users\\gu147345\\appdata\\local\\programs\\python\\python312\\lib\\site-packages (from requests) (1.26.19)\n",
      "Requirement already satisfied: certifi>=2017.4.17 in c:\\users\\gu147345\\appdata\\local\\programs\\python\\python312\\lib\\site-packages (from requests) (2024.7.4)\n",
      "Note: you may need to restart the kernel to use updated packages.\n"
     ]
    }
   ],
   "source": [
    "pip install requests"
   ]
  },
  {
   "cell_type": "code",
   "execution_count": 3,
   "metadata": {},
   "outputs": [
    {
     "name": "stdout",
     "output_type": "stream",
     "text": [
      "Dados da tabela foram salvos em dados_tabela.csv\n"
     ]
    }
   ],
   "source": [
    "import requests\n",
    "import json\n",
    "import csv\n",
    "\n",
    "def extract_data_from_odata_api(url, params=None):\n",
    "    \"\"\"Extrai dados de uma API OData.\"\"\"\n",
    "\n",
    "    response = requests.get(url, params=params)\n",
    "    response.raise_for_status()\n",
    "\n",
    "    data = json.loads(response.content)\n",
    "\n",
    "    headers = list(data['value'][0].keys())\n",
    "    rows = [list(item.values()) for item in data['value']]\n",
    "\n",
    "    return headers, rows\n",
    "\n",
    "def write_to_csv(headers, rows, filename='dados_tabela.csv'):\n",
    "\n",
    "    with open(filename, 'w', newline='', encoding='utf-8') as csvfile:\n",
    "        writer = csv.writer(csvfile)\n",
    "        writer.writerow(headers)\n",
    "        writer.writerows(rows)\n",
    "\n",
    "if __name__ == '__main__':\n",
    "    url = 'https://olinda.mec.gov.br/olinda-ide/servico/PDA_PNP/versao/v1/odata/PDA_PNP_Matriculas'\n",
    "    params = {\n",
    "        #'$top': 1000,  # Limitar o número de resultados (ajuste conforme necessário)\n",
    "    }\n",
    "    headers, rows = extract_data_from_odata_api(url, params)\n",
    "    write_to_csv(headers, rows)\n",
    "\n",
    "    print(f'Dados da tabela foram salvos em dados_tabela.csv')"
   ]
  }
 ],
 "metadata": {
  "kernelspec": {
   "display_name": "Python 3",
   "language": "python",
   "name": "python3"
  },
  "language_info": {
   "codemirror_mode": {
    "name": "ipython",
    "version": 3
   },
   "file_extension": ".py",
   "mimetype": "text/x-python",
   "name": "python",
   "nbconvert_exporter": "python",
   "pygments_lexer": "ipython3",
   "version": "3.12.6"
  }
 },
 "nbformat": 4,
 "nbformat_minor": 2
}
